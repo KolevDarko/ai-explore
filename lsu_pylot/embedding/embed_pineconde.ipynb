{
 "cells": [
  {
   "cell_type": "code",
   "execution_count": 3,
   "metadata": {},
   "outputs": [
    {
     "name": "stdout",
     "output_type": "stream",
     "text": [
      "EmbeddingsList(\n",
      "  model='multilingual-e5-large',\n",
      "  data=[\n",
      "    {'values': [0.0098876953125, -0.0286102294921875, ..., -0.040740966796875, 0.006633758544921875]},\n",
      "    {'values': [0.0079193115234375, -0.0240325927734375, ..., -0.0233917236328125, 0.01375579833984375]},\n",
      "    {'values': [0.0024242401123046875, -0.0248565673828125, ..., -0.054290771484375, 0.00897216796875]},\n",
      "    {'values': [0.0223236083984375, -0.0087890625, ..., -0.024749755859375, 0.01207733154296875]},\n",
      "    {'values': [0.0226287841796875, -0.027130126953125, ..., -0.0322265625, 0.00424957275390625]}\n",
      "  ],\n",
      "  usage={'total_tokens': 459}\n",
      ")\n"
     ]
    }
   ],
   "source": [
    "import os\n",
    "from uuid import uuid4\n",
    "from pinecone import Pinecone\n",
    "\n",
    "pinecone_api_key = os.environ.get(\"PINECONE_API_KEY\", '912b76d8-5a64-4f46-97e3-099a8e448389')\n",
    "\n",
    "pc = Pinecone(api_key=pinecone_api_key)\n",
    "\n",
    "data = [\n",
    "    \"## Кога е најдобро да вежбам во текот на денот? Нема физиолошки придобивки или недостатоци при изборот на време за вежбање. Главната придобивка е ментална. НАЈДОБРОТО ВРЕМЕ за вежбање е она кое одговара на вас согласно вашите обврски, работа и активности. Нека биде време во кое е најмалку веројатно дека ќе правите изговори.\",\n",
    "    \"\"\"\n",
    "        ## Колку пати неделно да вежбам за да имам резултати? \n",
    "        Ако во моментот имате 0 активност и само 1 тренинг во неделата може да направи разлика. Поставување на нереални достигнувања и вежбање пример секој ден може да направи само контраефект. Запомнете дека секогаш можете да додадете плус тогаш кога ќе се чувствувате подготвено. Во секој случај на самиот почеток 2-3 пати неделно активност ќе биде доволно.\n",
    "    \"\"\",\n",
    "    \"\"\"\n",
    "## Колку време ќе ми треба да видам резултати? \n",
    "Ова е многу различно за секој човек, но генерално 3 до 4 месеци конзистентност се доволни да видите видилива разлика која и другите ќе можат да ја забележат. Сепак, освен физички, поставете си и емоционални и ментални цели кои ќе бидат со вас во процесот на менување на навиките и ќе ви помогнат полесно да чекорите кон целта на целосно подобра верзија од себе.\n",
    "    \"\"\",\n",
    "    \"\"\"\n",
    "## Кои тренинзи ќе ми дадат најубав ефект? \n",
    "Има многу различни начини и стилови на вежбање, но најголем ефект ќе имате од тренинзите во кои вие ќе уживате најмногу и кои ќе можете лесно да ги вклопите во дневен распоред. Ако сте мајка која работи и има многу малку слободно време за себе, можеби вежбањето дома кратки, функционални тренинзи ќе биде најдобро. Важно е да бидете активни, не заборавјте дека 1 е повеќе од 0.\n",
    "    \"\"\",\n",
    "    \"\"\"\n",
    "## Дали да јадам пред вежбање? \n",
    "Потрудете се последниот оброк пред вежбање да биде барем 2-3 часа пред тренингот. Не е убаво да вежбате со полн стомак. Ако вежбате наутро нема да имате проблем со тоа, но доколку вежбате попладне, потрудете се да не вежбате со полн стомак.\n",
    "    \"\"\",\n",
    "]\n",
    "\n",
    "docs = [\n",
    "    {\n",
    "        \"id\": str(uuid4()),\n",
    "        \"text\": doc,\n",
    "    }\n",
    "    for doc in data\n",
    "]\n",
    "\n",
    "embeddings = pc.inference.embed(\n",
    "    model=\"multilingual-e5-large\",\n",
    "    inputs=[d[\"text\"] for d in docs],\n",
    "    parameters={\"input_type\": \"passage\", \"truncate\": \"END\"},\n",
    ")\n",
    "\n",
    "print(embeddings)\n"
   ]
  },
  {
   "cell_type": "code",
   "execution_count": 4,
   "metadata": {},
   "outputs": [
    {
     "data": {
      "text/plain": [
       "{'upserted_count': 5}"
      ]
     },
     "execution_count": 4,
     "metadata": {},
     "output_type": "execute_result"
    }
   ],
   "source": [
    "index_name = \"p-docs\"\n",
    "index = pc.Index(index_name)\n",
    "\n",
    "records = []\n",
    "for d, e in zip(docs, embeddings):\n",
    "    records.append({\n",
    "        'id': d['id'],\n",
    "        'values': e['values'],\n",
    "        'metadata': {'text': d['text']}\n",
    "    })\n",
    "\n",
    "index.upsert(vectors=records, namespace='article1')\n"
   ]
  },
  {
   "cell_type": "code",
   "execution_count": 7,
   "metadata": {},
   "outputs": [
    {
     "name": "stdout",
     "output_type": "stream",
     "text": [
      "{'dimension': 1024,\n",
      " 'index_fullness': 0.0,\n",
      " 'namespaces': {'article1': {'vector_count': 5}},\n",
      " 'total_vector_count': 5}\n"
     ]
    }
   ],
   "source": [
    "\n",
    "print(index.describe_index_stats())\n"
   ]
  },
  {
   "cell_type": "code",
   "execution_count": 11,
   "metadata": {},
   "outputs": [],
   "source": [
    "pc_model = \"multilingual-e5-large\"\n",
    "pc_index_name = \"p-docs\"\n",
    "def pinecone_answer(query):\n",
    "    pc = Pinecone(api_key=pinecone_api_key)\n",
    "    query_embedding = pc.inference.embed(\n",
    "        model=pc_model, inputs=[query], parameters={\"input_type\": \"query\"}\n",
    "    )\n",
    "    index = pc.Index(pc_index_name)\n",
    "    results = index.query(\n",
    "        vector=query_embedding[0].values,\n",
    "        namespace='article1',\n",
    "        top_k=3,\n",
    "        include_values=False,\n",
    "        include_metadata=True,\n",
    "    )\n",
    "\n",
    "    return results\n"
   ]
  },
  {
   "cell_type": "code",
   "execution_count": 14,
   "metadata": {},
   "outputs": [],
   "source": [
    "matches = pinecone_answer('Колку време до резултати')"
   ]
  },
  {
   "cell_type": "code",
   "execution_count": null,
   "metadata": {},
   "outputs": [
    {
     "data": {
      "text/plain": [
       "'\\n## Колку време ќе ми треба да видам резултати? \\nОва е многу различно за секој човек, но генерално 3 до 4 месеци конзистентност се доволни да видите видилива разлика која и другите ќе можат да ја забележат. Сепак, освен физички, поставете си и емоционални и ментални цели кои ќе бидат со вас во процесот на менување на навиките и ќе ви помогнат полесно да чекорите кон целта на целосно подобра верзија од себе.\\n    '"
      ]
     },
     "execution_count": 18,
     "metadata": {},
     "output_type": "execute_result"
    }
   ],
   "source": [
    "matches['matches'][0]['metadata']['text']\n"
   ]
  }
 ],
 "metadata": {
  "kernelspec": {
   "display_name": "lsu-pylot-52aDF49R-py3.11",
   "language": "python",
   "name": "python3"
  },
  "language_info": {
   "codemirror_mode": {
    "name": "ipython",
    "version": 3
   },
   "file_extension": ".py",
   "mimetype": "text/x-python",
   "name": "python",
   "nbconvert_exporter": "python",
   "pygments_lexer": "ipython3",
   "version": "3.11.7"
  }
 },
 "nbformat": 4,
 "nbformat_minor": 2
}
